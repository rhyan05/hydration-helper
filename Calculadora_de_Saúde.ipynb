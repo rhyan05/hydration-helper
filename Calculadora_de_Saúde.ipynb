{
  "nbformat": 4,
  "nbformat_minor": 0,
  "metadata": {
    "colab": {
      "provenance": [],
      "authorship_tag": "ABX9TyNLRXr1PKm69fs2TL/jw9uC",
      "include_colab_link": true
    },
    "kernelspec": {
      "name": "python3",
      "display_name": "Python 3"
    },
    "language_info": {
      "name": "python"
    }
  },
  "cells": [
    {
      "cell_type": "markdown",
      "metadata": {
        "id": "view-in-github",
        "colab_type": "text"
      },
      "source": [
        "<a href=\"https://colab.research.google.com/github/rhyan05/hydration-helper/blob/main/Calculadora_de_Sa%C3%BAde.ipynb\" target=\"_parent\"><img src=\"https://colab.research.google.com/assets/colab-badge.svg\" alt=\"Open In Colab\"/></a>"
      ]
    },
    {
      "cell_type": "markdown",
      "source": [
        "# Calculadora de Saúde e Hidratação Personalizada\n",
        "\n",
        "Este programa interativo foi desenvolvido para ajudar você a entender melhor suas necessidades de hidratação e manter um estilo de vida saudável. Ele realiza os seguintes passos:\n",
        "\n",
        "1. Pergunta sobre o ambiente em que você vive (quente, médio ou frio).\n",
        "\n",
        "2. Calcula seu IMC com base no peso e altura informados.\n",
        "\n",
        "3. Faz uma recomendação de quanto de água você deveria beber por dia, levando em consideração seu IMC e o clima do local.\n",
        "\n",
        "4. Pergunta quanto de água você realmente ingere diariamente e avalia se está dentro da recomendação ideal.\n",
        "\n",
        "5. Registra o horário da sua última avaliação para que você saiba quanto tempo passou desde a última vez que realizou o cálculo.\n",
        "\n",
        "6. ferece dicas gerais de saúde, como a importância de fazer exercícios físicos, manter uma dieta equilibrada e procurar acompanhamento médico especializado.\n",
        "\n",
        "Este programa tem como objetivo promover o cuidado com o corpo e a saúde de forma prática e personalizada, lembrando que sempre é importante consultar um médico ou profissional de saúde antes de fazer mudanças significativas no seu estilo de vida."
      ],
      "metadata": {
        "id": "UthcV49lwzX8"
      }
    },
    {
      "cell_type": "code",
      "source": [
        "import time\n",
        "import os\n",
        "from datetime import datetime, timedelta"
      ],
      "metadata": {
        "id": "rb4kz4loxWcE"
      },
      "execution_count": null,
      "outputs": []
    },
    {
      "cell_type": "code",
      "execution_count": null,
      "metadata": {
        "id": "Y7o2wNjpwFox"
      },
      "outputs": [],
      "source": [
        "from datetime import datetime\n",
        "import os\n",
        "\n",
        "# Arquivo onde o horário da última verificação será salvo\n",
        "HISTORY_FILE = \"last_check.txt\"\n",
        "\n",
        "# Função para salvar o horário atual no arquivo\n",
        "def salvar_horario():\n",
        "    with open(HISTORY_FILE, \"w\") as f:\n",
        "        f.write(datetime.now().isoformat())\n",
        "\n",
        "# Calcular o tempo desde a última verificação\n",
        "def tempo_desde_ultima_verificacao():\n",
        "    if not os.path.exists(HISTORY_FILE):\n",
        "        return None\n",
        "    # Lê o horário salvo e calcula o tempo passado desde então\n",
        "    with open(HISTORY_FILE, \"r\") as f:\n",
        "        ultimo_horario = datetime.fromisoformat(f.read())\n",
        "    return datetime.now() - ultimo_horario\n",
        "\n",
        "# Funcão para calcular o IMC\n",
        "def calcular_imc(peso, altura):\n",
        "    return peso / (altura ** 2)\n",
        "\n",
        "# Função para calcular a quantidade recomendada de água\n",
        "def recomendacao_agua(peso, ambiente):\n",
        "    if ambiente == 'quente':\n",
        "        base = 0.04\n",
        "    elif ambiente == 'medio':\n",
        "        base = 0.035\n",
        "    else:\n",
        "        base = 0.03\n",
        "    return base * peso\n",
        "\n",
        "# Função para mostrar as recomendações gerais de saúde\n",
        "def principais_recomendacoes():\n",
        "    print(\"\\n⚠️ Se você pratica atividades físicas como caminhada, esportes ou musculação, a quantidade ideal de água consumida por dia sera maior, 500 a 1000 ml extras por hora de exercício moderado e intenso🏋️‍♀️\")\n",
        "    print(\"\\n📋 Recomendações de Saúde:\")\n",
        "    print(\"- Faça exercícios físicos regularmente 🏃‍♂️ (sempre com acompanhamento médico)\")\n",
        "    print(\"- Mantenha uma dieta equilibrada 🥗 (procure um nutricionista especializado)\")\n",
        "    print(\"- Beba água ao longo do dia 💧\")\n",
        "    print(\"- Durma bem e mantenha uma rotina saudável 😴🛏️\")\n",
        "\n",
        "# Perguntas Iniciais\n",
        "def main():\n",
        "    print(\"=== Quiz de Saúde ===\\n\")\n",
        "\n",
        "    # 1° Pergunta sobre o ambiente onde o usuário mora\n",
        "    ambiente = \"\"\n",
        "    while ambiente not in ['quente', 'medio', 'frio']:\n",
        "        ambiente = input(\"Você mora em um lugar quente, médio ou frio (em latitude)? \").strip().lower()\n",
        "\n",
        "    # 2° Perguntas sobre peso e altura para calcular o IMC\n",
        "    while True:\n",
        "        try:\n",
        "            peso = float(input(\"Qual é o seu peso (em kg)? \"))\n",
        "            altura = float(input(\"Qual é a sua altura (em metros)? \"))\n",
        "            break\n",
        "        except ValueError:\n",
        "            print(\"Por favor, insira números válidos\")\n",
        "\n",
        "    # Cálculo do IMC\n",
        "    imc = calcular_imc(peso, altura)\n",
        "    print(f\"\\nSeu IMC é: {imc:.2f}\")\n",
        "\n",
        "    # Cálculo da quantidade recomendada de água\n",
        "    quantidade_recomendada = recomendacao_agua(peso, ambiente)\n",
        "    print(f\"💧 Com base no seu peso e ambiente, recomenda-se cerca de {quantidade_recomendada:.2f}L de água por dia\")\n",
        "\n",
        "    # 3° Pergunta sobre o quanto de água a pessoa ingere por dia\n",
        "    while True:\n",
        "        try:\n",
        "            consumo_agua = float(input(\"\\nQuantos litros de água você realmente bebe por dia? \"))\n",
        "            break\n",
        "        except ValueError:\n",
        "            print(\"Por favor, insira um número válido\")\n",
        "\n",
        "    # Verifica se o consumo de água está dentro da recomendação\n",
        "    if consumo_agua >= quantidade_recomendada:\n",
        "        print(\"✅ Você está bebendo uma boa quantidade de água!\")\n",
        "    else:\n",
        "        print(f\"⚠️ Seria ideal aumentar seu consumo para pelo menos {quantidade_recomendada:.2f}L\")\n",
        "\n",
        "    # 4° Verificar o tempo desde a última verificação (caso o usuário já tenha rodado alguma outra vez antes)\n",
        "    tempo_passado = tempo_desde_ultima_verificacao()\n",
        "    if tempo_passado:\n",
        "        print(f\"\\n Faz {tempo_passado.days} dias e {tempo_passado.seconds // 3600} horas desde sua última avaliação de saúde\")\n",
        "\n",
        "    # Salva o horário atual para futura comparação\n",
        "    salvar_horario()\n",
        "\n",
        "    # Mostra recomendações gerais de saúde\n",
        "    principais_recomendacoes()\n",
        "\n",
        "# Chama a função principal para rodar o programa\n",
        "main()\n"
      ]
    }
  ]
}